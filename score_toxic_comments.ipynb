{
  "nbformat": 4,
  "nbformat_minor": 0,
  "metadata": {
    "colab": {
      "name": "score toxic comments.ipynb",
      "provenance": [],
      "collapsed_sections": [],
      "toc_visible": true,
      "mount_file_id": "1ZXVXQCM008M115lGpOsEJVRqKsvo3aiq",
      "authorship_tag": "ABX9TyMGxzOjtUvETySlB+l1kAqV",
      "include_colab_link": true
    },
    "kernelspec": {
      "name": "python3",
      "display_name": "Python 3"
    },
    "language_info": {
      "name": "python"
    }
  },
  "cells": [
    {
      "cell_type": "markdown",
      "metadata": {
        "id": "view-in-github",
        "colab_type": "text"
      },
      "source": [
        "<a href=\"https://colab.research.google.com/github/lizliu2015/NLP-frequently-used-code/blob/main/score_toxic_comments.ipynb\" target=\"_parent\"><img src=\"https://colab.research.google.com/assets/colab-badge.svg\" alt=\"Open In Colab\"/></a>"
      ]
    },
    {
      "cell_type": "markdown",
      "source": [
        "Table of Contents\n",
        "\n",
        "1.   Configuring TPU's\n",
        "2.   Simple RNN\n",
        "3.   Word Embeddings\n",
        "4.   LSTM's\n",
        "5.   Code Implementation\n",
        "6.   GRU's\n",
        "7.   Bi-Directional RNN's\n",
        "8.   Seq2Seq Model Architecture\n",
        "9.   Attention Models\n",
        "10.  Transformers \n",
        "11.  BERT \n",
        "\n",
        "https://www.kaggle.com/code/tanulsingh077/deep-learning-for-nlp-zero-to-transformers-bert/notebook#Word-Embeddings\n",
        "\n",
        "https://www.kaggle.com/code/rftexas/nlp-cheatsheet-master-nlp/notebook\n",
        "\n",
        "\n"
      ],
      "metadata": {
        "id": "B2MtFOQSsbv8"
      }
    },
    {
      "cell_type": "code",
      "source": [
        "import numpy as np # linear algebra\n",
        "import pandas as pd # data processing, CSV file I/O (e.g. pd.read_csv)\n",
        "from tqdm import tqdm\n",
        "from sklearn.model_selection import train_test_split\n",
        "import tensorflow as tf\n",
        "from keras.models import Sequential\n",
        "from keras.layers.recurrent import LSTM, GRU,SimpleRNN\n",
        "from keras.layers.core import Dense, Activation, Dropout\n",
        "from keras.layers.embeddings import Embedding\n",
        "from tensorflow.keras.layers import BatchNormalization\n",
        "from keras.utils import np_utils\n",
        "from sklearn import preprocessing, decomposition, model_selection, metrics, pipeline\n",
        "from keras.layers import GlobalMaxPooling1D, Conv1D, MaxPooling1D, Flatten, Bidirectional, SpatialDropout1D\n",
        "from keras.preprocessing import sequence, text\n",
        "from keras.callbacks import EarlyStopping\n",
        "import matplotlib.pyplot as plt\n",
        "import seaborn as sns\n",
        "%matplotlib inline\n",
        "from plotly import graph_objs as go\n",
        "import plotly.express as px\n",
        "import plotly.figure_factory as ff"
      ],
      "metadata": {
        "id": "zuMF7SOu69Va"
      },
      "execution_count": 3,
      "outputs": []
    },
    {
      "cell_type": "code",
      "execution_count": 4,
      "metadata": {
        "id": "EuvvWMrt_xmS"
      },
      "outputs": [],
      "source": [
        "# Code to read csv file into Colaboratory:\n",
        "!pip install -U -q PyDrive\n",
        "from pydrive.auth import GoogleAuth\n",
        "from pydrive.drive import GoogleDrive\n",
        "from google.colab import auth\n",
        "from oauth2client.client import GoogleCredentials\n",
        "# Authenticate and create the PyDrive client.\n",
        "auth.authenticate_user()\n",
        "gauth = GoogleAuth()\n",
        "gauth.credentials = GoogleCredentials.get_application_default()\n",
        "drive = GoogleDrive(gauth)"
      ]
    },
    {
      "cell_type": "code",
      "source": [
        "link = 'https://drive.google.com/file/d/link=1MCre5qWf_-ZMCCfLDqe-8uQo7B6YvxcX' # The shareable link\n",
        "fluff, id = link.split('=')\n",
        "print (id) # Verify that you have everything after '='"
      ],
      "metadata": {
        "id": "hsuRSvt4_3k4",
        "colab": {
          "base_uri": "https://localhost:8080/"
        },
        "outputId": "90fa0a40-74e0-431d-ff92-37a0c071df70"
      },
      "execution_count": 5,
      "outputs": [
        {
          "output_type": "stream",
          "name": "stdout",
          "text": [
            "1MCre5qWf_-ZMCCfLDqe-8uQo7B6YvxcX\n"
          ]
        }
      ]
    },
    {
      "cell_type": "code",
      "source": [
        "id = '1MCre5qWf_-ZMCCfLDqe-8uQo7B6YvxcX'\n",
        "downloaded = drive.CreateFile({'id':id}) \n",
        "downloaded.GetContentFile('jigsaw-toxic-comment-train.csv')  \n",
        "train = pd.read_csv('jigsaw-toxic-comment-train.csv')\n",
        "# Dataset is now stored in a Pandas Dataframe"
      ],
      "metadata": {
        "id": "py0AbVDR_5Rf"
      },
      "execution_count": 6,
      "outputs": []
    },
    {
      "cell_type": "code",
      "source": [
        "id = '1-kxpsFCxookY1ZGZdu4EFTWaD6YEAnzx'\n",
        "downloaded = drive.CreateFile({'id':id}) \n",
        "downloaded.GetContentFile('validation.csv')  \n",
        "validation = pd.read_csv('validation.csv')"
      ],
      "metadata": {
        "id": "SGcXYLcZ-F96"
      },
      "execution_count": 7,
      "outputs": []
    },
    {
      "cell_type": "code",
      "source": [
        "id = '1_esHiKpTPwD6AlD8DVBdySN4zC0Syktu'\n",
        "downloaded = drive.CreateFile({'id':id}) \n",
        "downloaded.GetContentFile('test.csv')  \n",
        "test = pd.read_csv('test.csv')"
      ],
      "metadata": {
        "id": "t5RR4oit-dbJ"
      },
      "execution_count": 8,
      "outputs": []
    },
    {
      "cell_type": "markdown",
      "source": [
        "# Configure TPU"
      ],
      "metadata": {
        "id": "1i-d9lv5M12r"
      }
    },
    {
      "cell_type": "code",
      "source": [
        "# Detect hardware, return appropriate distribution strategy\n",
        "try:\n",
        "    # TPU detection. No parameters necessary if TPU_NAME environment variable is\n",
        "    # set: this is always the case on Kaggle.\n",
        "    tpu = tf.distribute.cluster_resolver.TPUClusterResolver()\n",
        "    print('Running on TPU ', tpu.master())\n",
        "except ValueError:\n",
        "    tpu = None\n",
        "\n",
        "if tpu:\n",
        "    tf.config.experimental_connect_to_cluster(tpu)\n",
        "    tf.tpu.experimental.initialize_tpu_system(tpu)\n",
        "    strategy = tf.distribute.experimental.TPUStrategy(tpu)\n",
        "else:\n",
        "    # Default distribution strategy in Tensorflow. Works on CPU and single GPU.\n",
        "    strategy = tf.distribute.get_strategy()\n",
        "\n",
        "print(\"REPLICAS: \", strategy.num_replicas_in_sync)"
      ],
      "metadata": {
        "colab": {
          "base_uri": "https://localhost:8080/"
        },
        "id": "qcgvqpjk7WRa",
        "outputId": "39710d44-d411-4be5-ff87-c60d2c7d8ede"
      },
      "execution_count": 9,
      "outputs": [
        {
          "output_type": "stream",
          "name": "stdout",
          "text": [
            "REPLICAS:  1\n"
          ]
        }
      ]
    },
    {
      "cell_type": "code",
      "source": [
        "# We will drop the other columns and approach this problem as a Binary Classification Problem \n",
        "# and also we will have our exercise done on a smaller subsection of the dataset(only 12000 data points) to make it easier to train the models\n",
        "train.drop(['severe_toxic','obscene','threat','insult','identity_hate'],axis=1,inplace=True)\n",
        "train = train.loc[:12000,:]\n",
        "train.shape"
      ],
      "metadata": {
        "colab": {
          "base_uri": "https://localhost:8080/"
        },
        "id": "cGezvQVC-t9o",
        "outputId": "9b5b1fc8-042e-4535-8d75-631e28cec243"
      },
      "execution_count": 10,
      "outputs": [
        {
          "output_type": "execute_result",
          "data": {
            "text/plain": [
              "(12001, 3)"
            ]
          },
          "metadata": {},
          "execution_count": 10
        }
      ]
    },
    {
      "cell_type": "code",
      "source": [
        "#We will check the maximum number of words that can be present in a comment , this will help us in padding later\n",
        "train['comment_text'].apply(lambda x:len(str(x).split())).max()"
      ],
      "metadata": {
        "colab": {
          "base_uri": "https://localhost:8080/"
        },
        "id": "NArWGDyt-4t4",
        "outputId": "842566eb-c5e4-481a-f87c-1ce1d90eae80"
      },
      "execution_count": 11,
      "outputs": [
        {
          "output_type": "execute_result",
          "data": {
            "text/plain": [
              "1403"
            ]
          },
          "metadata": {},
          "execution_count": 11
        }
      ]
    },
    {
      "cell_type": "code",
      "source": [
        "#Writing a function for getting auc score for validation\n",
        "def roc_auc(predictions,target):\n",
        "    '''\n",
        "    This methods returns the AUC Score when given the Predictions\n",
        "    and Labels\n",
        "    '''\n",
        "    \n",
        "    fpr, tpr, thresholds = metrics.roc_curve(target, predictions)\n",
        "    roc_auc = metrics.auc(fpr, tpr)\n",
        "    return roc_auc\n"
      ],
      "metadata": {
        "id": "loCKBo3H-9jQ"
      },
      "execution_count": 12,
      "outputs": []
    },
    {
      "cell_type": "code",
      "source": [
        "#data preparation\n",
        "xtrain, xvalid, ytrain, yvalid = train_test_split(train.comment_text.values, train.toxic.values, \n",
        "                                                  stratify=train.toxic.values, \n",
        "                                                  random_state=42, \n",
        "                                                  test_size=0.2, shuffle=True)"
      ],
      "metadata": {
        "id": "RiSc_BgX_C-w"
      },
      "execution_count": 13,
      "outputs": []
    },
    {
      "cell_type": "markdown",
      "source": [
        "# EDA"
      ],
      "metadata": {
        "id": "TWih3NBxOVoB"
      }
    },
    {
      "cell_type": "code",
      "source": [
        "#take a peak\n",
        "train.tail(10)"
      ],
      "metadata": {
        "colab": {
          "base_uri": "https://localhost:8080/",
          "height": 363
        },
        "id": "rP0DMFJZOdTa",
        "outputId": "49dd0a7b-4f37-4b08-8be4-8851cb45af40"
      },
      "execution_count": 32,
      "outputs": [
        {
          "output_type": "execute_result",
          "data": {
            "text/plain": [
              "                     id                                       comment_text  \\\n",
              "11991  1fbe9c3cf406e12b  Suggestion \\n\\nPlease stop trying to act like ...   \n",
              "11992  1fbf6d04d85510a7  Color \\n\\nIt used to be black. When was it rep...   \n",
              "11993  1fc0f8e5a4ba1f9d            No, it was said in ep. 26. 76.95.66.209   \n",
              "11994  1fc189821a287b26  \"\\n\\nRegarding text formatting, I'm talking ab...   \n",
              "11995  1fc1b4d6b088341a  Greek primacy\\nI'm in two minds myself. But Ta...   \n",
              "11996  1fc25487b9b9187f  February 2006 (UTC)\\n\\nThank you for fixing th...   \n",
              "11997  1fc3e5540e2605d1                      Erased another silly message.   \n",
              "11998  1fc4c99c34cf0e07  \"\\n\\n Helly Jimmy, well; fuck you. \\n\\nAccordi...   \n",
              "11999  1fc8d9f16da8cccc  Why don't you run cry to your mommy, little As...   \n",
              "12000  1fc9441f74fb9440  \"\\n\\nThat is not a list of official names of o...   \n",
              "\n",
              "       toxic  \n",
              "11991      0  \n",
              "11992      0  \n",
              "11993      0  \n",
              "11994      0  \n",
              "11995      0  \n",
              "11996      0  \n",
              "11997      0  \n",
              "11998      1  \n",
              "11999      1  \n",
              "12000      0  "
            ],
            "text/html": [
              "\n",
              "  <div id=\"df-40553d6f-30d0-4a8a-9c38-0b477907f5d4\">\n",
              "    <div class=\"colab-df-container\">\n",
              "      <div>\n",
              "<style scoped>\n",
              "    .dataframe tbody tr th:only-of-type {\n",
              "        vertical-align: middle;\n",
              "    }\n",
              "\n",
              "    .dataframe tbody tr th {\n",
              "        vertical-align: top;\n",
              "    }\n",
              "\n",
              "    .dataframe thead th {\n",
              "        text-align: right;\n",
              "    }\n",
              "</style>\n",
              "<table border=\"1\" class=\"dataframe\">\n",
              "  <thead>\n",
              "    <tr style=\"text-align: right;\">\n",
              "      <th></th>\n",
              "      <th>id</th>\n",
              "      <th>comment_text</th>\n",
              "      <th>toxic</th>\n",
              "    </tr>\n",
              "  </thead>\n",
              "  <tbody>\n",
              "    <tr>\n",
              "      <th>11991</th>\n",
              "      <td>1fbe9c3cf406e12b</td>\n",
              "      <td>Suggestion \\n\\nPlease stop trying to act like ...</td>\n",
              "      <td>0</td>\n",
              "    </tr>\n",
              "    <tr>\n",
              "      <th>11992</th>\n",
              "      <td>1fbf6d04d85510a7</td>\n",
              "      <td>Color \\n\\nIt used to be black. When was it rep...</td>\n",
              "      <td>0</td>\n",
              "    </tr>\n",
              "    <tr>\n",
              "      <th>11993</th>\n",
              "      <td>1fc0f8e5a4ba1f9d</td>\n",
              "      <td>No, it was said in ep. 26. 76.95.66.209</td>\n",
              "      <td>0</td>\n",
              "    </tr>\n",
              "    <tr>\n",
              "      <th>11994</th>\n",
              "      <td>1fc189821a287b26</td>\n",
              "      <td>\"\\n\\nRegarding text formatting, I'm talking ab...</td>\n",
              "      <td>0</td>\n",
              "    </tr>\n",
              "    <tr>\n",
              "      <th>11995</th>\n",
              "      <td>1fc1b4d6b088341a</td>\n",
              "      <td>Greek primacy\\nI'm in two minds myself. But Ta...</td>\n",
              "      <td>0</td>\n",
              "    </tr>\n",
              "    <tr>\n",
              "      <th>11996</th>\n",
              "      <td>1fc25487b9b9187f</td>\n",
              "      <td>February 2006 (UTC)\\n\\nThank you for fixing th...</td>\n",
              "      <td>0</td>\n",
              "    </tr>\n",
              "    <tr>\n",
              "      <th>11997</th>\n",
              "      <td>1fc3e5540e2605d1</td>\n",
              "      <td>Erased another silly message.</td>\n",
              "      <td>0</td>\n",
              "    </tr>\n",
              "    <tr>\n",
              "      <th>11998</th>\n",
              "      <td>1fc4c99c34cf0e07</td>\n",
              "      <td>\"\\n\\n Helly Jimmy, well; fuck you. \\n\\nAccordi...</td>\n",
              "      <td>1</td>\n",
              "    </tr>\n",
              "    <tr>\n",
              "      <th>11999</th>\n",
              "      <td>1fc8d9f16da8cccc</td>\n",
              "      <td>Why don't you run cry to your mommy, little As...</td>\n",
              "      <td>1</td>\n",
              "    </tr>\n",
              "    <tr>\n",
              "      <th>12000</th>\n",
              "      <td>1fc9441f74fb9440</td>\n",
              "      <td>\"\\n\\nThat is not a list of official names of o...</td>\n",
              "      <td>0</td>\n",
              "    </tr>\n",
              "  </tbody>\n",
              "</table>\n",
              "</div>\n",
              "      <button class=\"colab-df-convert\" onclick=\"convertToInteractive('df-40553d6f-30d0-4a8a-9c38-0b477907f5d4')\"\n",
              "              title=\"Convert this dataframe to an interactive table.\"\n",
              "              style=\"display:none;\">\n",
              "        \n",
              "  <svg xmlns=\"http://www.w3.org/2000/svg\" height=\"24px\"viewBox=\"0 0 24 24\"\n",
              "       width=\"24px\">\n",
              "    <path d=\"M0 0h24v24H0V0z\" fill=\"none\"/>\n",
              "    <path d=\"M18.56 5.44l.94 2.06.94-2.06 2.06-.94-2.06-.94-.94-2.06-.94 2.06-2.06.94zm-11 1L8.5 8.5l.94-2.06 2.06-.94-2.06-.94L8.5 2.5l-.94 2.06-2.06.94zm10 10l.94 2.06.94-2.06 2.06-.94-2.06-.94-.94-2.06-.94 2.06-2.06.94z\"/><path d=\"M17.41 7.96l-1.37-1.37c-.4-.4-.92-.59-1.43-.59-.52 0-1.04.2-1.43.59L10.3 9.45l-7.72 7.72c-.78.78-.78 2.05 0 2.83L4 21.41c.39.39.9.59 1.41.59.51 0 1.02-.2 1.41-.59l7.78-7.78 2.81-2.81c.8-.78.8-2.07 0-2.86zM5.41 20L4 18.59l7.72-7.72 1.47 1.35L5.41 20z\"/>\n",
              "  </svg>\n",
              "      </button>\n",
              "      \n",
              "  <style>\n",
              "    .colab-df-container {\n",
              "      display:flex;\n",
              "      flex-wrap:wrap;\n",
              "      gap: 12px;\n",
              "    }\n",
              "\n",
              "    .colab-df-convert {\n",
              "      background-color: #E8F0FE;\n",
              "      border: none;\n",
              "      border-radius: 50%;\n",
              "      cursor: pointer;\n",
              "      display: none;\n",
              "      fill: #1967D2;\n",
              "      height: 32px;\n",
              "      padding: 0 0 0 0;\n",
              "      width: 32px;\n",
              "    }\n",
              "\n",
              "    .colab-df-convert:hover {\n",
              "      background-color: #E2EBFA;\n",
              "      box-shadow: 0px 1px 2px rgba(60, 64, 67, 0.3), 0px 1px 3px 1px rgba(60, 64, 67, 0.15);\n",
              "      fill: #174EA6;\n",
              "    }\n",
              "\n",
              "    [theme=dark] .colab-df-convert {\n",
              "      background-color: #3B4455;\n",
              "      fill: #D2E3FC;\n",
              "    }\n",
              "\n",
              "    [theme=dark] .colab-df-convert:hover {\n",
              "      background-color: #434B5C;\n",
              "      box-shadow: 0px 1px 3px 1px rgba(0, 0, 0, 0.15);\n",
              "      filter: drop-shadow(0px 1px 2px rgba(0, 0, 0, 0.3));\n",
              "      fill: #FFFFFF;\n",
              "    }\n",
              "  </style>\n",
              "\n",
              "      <script>\n",
              "        const buttonEl =\n",
              "          document.querySelector('#df-40553d6f-30d0-4a8a-9c38-0b477907f5d4 button.colab-df-convert');\n",
              "        buttonEl.style.display =\n",
              "          google.colab.kernel.accessAllowed ? 'block' : 'none';\n",
              "\n",
              "        async function convertToInteractive(key) {\n",
              "          const element = document.querySelector('#df-40553d6f-30d0-4a8a-9c38-0b477907f5d4');\n",
              "          const dataTable =\n",
              "            await google.colab.kernel.invokeFunction('convertToInteractive',\n",
              "                                                     [key], {});\n",
              "          if (!dataTable) return;\n",
              "\n",
              "          const docLinkHtml = 'Like what you see? Visit the ' +\n",
              "            '<a target=\"_blank\" href=https://colab.research.google.com/notebooks/data_table.ipynb>data table notebook</a>'\n",
              "            + ' to learn more about interactive tables.';\n",
              "          element.innerHTML = '';\n",
              "          dataTable['output_type'] = 'display_data';\n",
              "          await google.colab.output.renderOutput(dataTable, element);\n",
              "          const docLink = document.createElement('div');\n",
              "          docLink.innerHTML = docLinkHtml;\n",
              "          element.appendChild(docLink);\n",
              "        }\n",
              "      </script>\n",
              "    </div>\n",
              "  </div>\n",
              "  "
            ]
          },
          "metadata": {},
          "execution_count": 32
        }
      ]
    },
    {
      "cell_type": "code",
      "source": [
        "print(\"Check for missing values in Train dataset\")\n",
        "null_check=train.isnull().sum()\n",
        "print(null_check)\n",
        "print(\"Check for missing values in Test dataset\")\n",
        "null_check=test.isnull().sum()\n",
        "print(null_check)\n",
        "print(\"filling NA with \\\"unknown\\\"\")\n",
        "#train[\"comment_text\"].fillna(\"unknown\", inplace=True)\n",
        "#test[\"comment_text\"].fillna(\"unknown\", inplace=True)"
      ],
      "metadata": {
        "colab": {
          "base_uri": "https://localhost:8080/"
        },
        "id": "JPxiHqdYN_Sx",
        "outputId": "2c80b130-708c-4484-d6e4-0ab8c9c2f400"
      },
      "execution_count": 33,
      "outputs": [
        {
          "output_type": "stream",
          "name": "stdout",
          "text": [
            "Check for missing values in Train dataset\n",
            "id              0\n",
            "comment_text    0\n",
            "toxic           0\n",
            "dtype: int64\n",
            "Check for missing values in Test dataset\n",
            "id         0\n",
            "content    0\n",
            "lang       0\n",
            "dtype: int64\n",
            "filling NA with \"unknown\"\n"
          ]
        }
      ]
    },
    {
      "cell_type": "code",
      "source": [
        "nrow_train=train.shape[0]\n",
        "nrow_test=test.shape[0]\n",
        "sum=nrow_train+nrow_test\n",
        "print(\"       : train : test\")\n",
        "print(\"rows   :\",nrow_train,\":\",nrow_test)\n",
        "print(\"perc   :\",round(nrow_train*100/sum),\"   :\",round(nrow_test*100/sum))"
      ],
      "metadata": {
        "colab": {
          "base_uri": "https://localhost:8080/"
        },
        "id": "nQQd30ArOlkx",
        "outputId": "7d9931ba-f247-4add-d5a3-97627ad753bf"
      },
      "execution_count": 34,
      "outputs": [
        {
          "output_type": "stream",
          "name": "stdout",
          "text": [
            "       : train : test\n",
            "rows   : 12001 : 63812\n",
            "perc   : 16    : 84\n"
          ]
        }
      ]
    },
    {
      "cell_type": "code",
      "source": [
        "#class imbanlance\n",
        "x=train.iloc[:,2:].sum()\n",
        "#marking comments without any tags as \"clean\"\n",
        "rowsums=train.iloc[:,2:].sum(axis=1)\n",
        "train['clean']=(rowsums==0)\n",
        "#count number of clean entries\n",
        "train['clean'].sum()\n",
        "print(\"Total comments = \",len(train))\n",
        "print(\"Total clean comments = \",train['clean'].sum())\n",
        "print(\"Total tags =\",x.sum())"
      ],
      "metadata": {
        "colab": {
          "base_uri": "https://localhost:8080/"
        },
        "id": "pbwK2IsqOygw",
        "outputId": "1edd8718-24c8-4d23-cfa7-8bb19c60442b"
      },
      "execution_count": 35,
      "outputs": [
        {
          "output_type": "stream",
          "name": "stdout",
          "text": [
            "Total comments =  12001\n",
            "Total clean comments =  10865\n",
            "Total tags = 1136\n"
          ]
        }
      ]
    },
    {
      "cell_type": "code",
      "source": [
        "x=train.iloc[:,2:].sum()\n",
        "#plot\n",
        "plt.figure(figsize=(8,4))\n",
        "ax= sns.barplot(x.index, x.values, alpha=0.8)\n",
        "plt.title(\"# per class\")\n",
        "plt.ylabel('# of Occurrences', fontsize=12)\n",
        "plt.xlabel('Type ', fontsize=12)\n",
        "#adding the text labels\n",
        "rects = ax.patches\n",
        "labels = x.values\n",
        "for rect, label in zip(rects, labels):\n",
        "    height = rect.get_height()\n",
        "    ax.text(rect.get_x() + rect.get_width()/2, height + 5, label, ha='center', va='bottom')\n",
        "\n",
        "plt.show()"
      ],
      "metadata": {
        "colab": {
          "base_uri": "https://localhost:8080/",
          "height": 353
        },
        "id": "-CMCIXlWPFbp",
        "outputId": "7598b5ef-54cb-4e60-e306-d9c78641c9ec"
      },
      "execution_count": 36,
      "outputs": [
        {
          "output_type": "stream",
          "name": "stderr",
          "text": [
            "/usr/local/lib/python3.7/dist-packages/seaborn/_decorators.py:43: FutureWarning: Pass the following variables as keyword args: x, y. From version 0.12, the only valid positional argument will be `data`, and passing other arguments without an explicit keyword will result in an error or misinterpretation.\n",
            "  FutureWarning\n"
          ]
        },
        {
          "output_type": "display_data",
          "data": {
            "text/plain": [
              "<Figure size 576x288 with 1 Axes>"
            ],
            "image/png": "[encoded data removed]"
          },
          "metadata": {
            "needs_background": "light"
          }
        }
      ]
    },
    {
      "cell_type": "markdown",
      "source": [
        "# RNN\n",
        "\n",
        "Explaination of RNN: https://machinelearningmastery.com/an-introduction-to-recurrent-neural-networks-and-the-math-that-powers-them/\n",
        "\n",
        "Documentation: https://www.d2l.ai/chapter_recurrent-neural-networks/rnn.html\n",
        "\n",
        "Coursera NLP using Tensorflow: https://www.coursera.org/learn/natural-language-processing-tensorflow/home/welcome\n"
      ],
      "metadata": {
        "id": "HOgr4qffAAnh"
      }
    },
    {
      "cell_type": "markdown",
      "source": [
        "## tokenizing & Padding\n",
        "In an RNN we input a sentence word by word. We represent every word as one hot vectors of dimensions : Numbers of words in Vocab +1.\n",
        "What keras Tokenizer does is , it takes all the unique words in the corpus,forms a dictionary with words as keys and their number of occurences as values,it then sorts the dictionary in descending order of counts. It then assigns the first value 1 , second value 2 and so on. So let's suppose word 'the' occured the most in the corpus then it will assigned index 1 and vector representing 'the' would be a one-hot vector with value 1 at position 1 and rest zereos.\n",
        "Try printing first 2 elements of xtrain_seq you will see every word is represented as a digit now\n",
        "\n",
        "## padding\n",
        "First, in order to use the padding functions you'll have to import pad sequences from tensorflow.keras.preprocessing.Sequence. Then once the tokenizer has created the sequences, these sequences can be passed to pad sequences in order to have them padded like this. The result is pretty straight forward. You can now see that the list of sentences has been padded out into a matrix and that each row in the matrix has the same length. It achieved this by putting the appropriate number of zeros before the sentence.\n",
        "\n",
        "![image.png](data:image/png;base64,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)"
      ],
      "metadata": {
        "id": "SMssMxfn4oEX"
      }
    },
    {
      "cell_type": "code",
      "source": [
        "# using keras tokenizer here\n",
        "token = text.Tokenizer(num_words=None)\n",
        "max_len = 1500\n",
        "\n",
        "token.fit_on_texts(list(xtrain) + list(xvalid))\n",
        "xtrain_seq = token.texts_to_sequences(xtrain)\n",
        "xvalid_seq = token.texts_to_sequences(xvalid)\n",
        "\n",
        "#zero pad the sequences\n",
        "xtrain_pad = sequence.pad_sequences(xtrain_seq, maxlen=max_len)\n",
        "xvalid_pad = sequence.pad_sequences(xvalid_seq, maxlen=max_len)\n",
        "\n",
        "word_index = token.word_index"
      ],
      "metadata": {
        "id": "thr9eG8F_DGQ"
      },
      "execution_count": 14,
      "outputs": []
    },
    {
      "cell_type": "markdown",
      "source": [
        "## Simple RNN"
      ],
      "metadata": {
        "id": "uwCiLatwfiBc"
      }
    },
    {
      "cell_type": "code",
      "source": [
        "%%time\n",
        "with strategy.scope():\n",
        "    # A simpleRNN without any pretrained embeddings and one dense layer\n",
        "    model = Sequential()\n",
        "    model.add(Embedding(len(word_index) + 1,\n",
        "                     300,\n",
        "                     input_length=max_len))\n",
        "    model.add(SimpleRNN(100))\n",
        "    model.add(Dense(1, activation='sigmoid'))\n",
        "    model.compile(loss='binary_crossentropy', optimizer='adam', metrics=['accuracy'])\n",
        "    \n",
        "model.summary()"
      ],
      "metadata": {
        "colab": {
          "base_uri": "https://localhost:8080/"
        },
        "id": "fneGR3Jt_DIp",
        "outputId": "2e34cc7c-0d9e-432b-a627-b33b6e2f550e"
      },
      "execution_count": 40,
      "outputs": [
        {
          "output_type": "stream",
          "name": "stdout",
          "text": [
            "Model: \"sequential\"\n",
            "_________________________________________________________________\n",
            " Layer (type)                Output Shape              Param #   \n",
            "=================================================================\n",
            " embedding (Embedding)       (None, 1500, 300)         13049100  \n",
            "                                                                 \n",
            " simple_rnn (SimpleRNN)      (None, 100)               40100     \n",
            "                                                                 \n",
            " dense (Dense)               (None, 1)                 101       \n",
            "                                                                 \n",
            "=================================================================\n",
            "Total params: 13,089,301\n",
            "Trainable params: 13,089,301\n",
            "Non-trainable params: 0\n",
            "_________________________________________________________________\n",
            "CPU times: user 348 ms, sys: 126 ms, total: 474 ms\n",
            "Wall time: 575 ms\n"
          ]
        }
      ]
    },
    {
      "cell_type": "code",
      "source": [
        "model.fit(xtrain_pad, ytrain, epochs=5, batch_size=64*strategy.num_replicas_in_sync) #Multiplying by Strategy to run on TPU's"
      ],
      "metadata": {
        "colab": {
          "base_uri": "https://localhost:8080/"
        },
        "id": "pewBCbM7_DK7",
        "outputId": "f726654f-cab0-4bd8-ecd6-c0f390e46033"
      },
      "execution_count": 41,
      "outputs": [
        {
          "output_type": "stream",
          "name": "stdout",
          "text": [
            "Epoch 1/5\n",
            "150/150 [==============================] - 205s 1s/step - loss: 0.3401 - accuracy: 0.8853\n",
            "Epoch 2/5\n",
            "150/150 [==============================] - 199s 1s/step - loss: 0.2353 - accuracy: 0.9114\n",
            "Epoch 3/5\n",
            "150/150 [==============================] - 208s 1s/step - loss: 0.0958 - accuracy: 0.9668\n",
            "Epoch 4/5\n",
            "150/150 [==============================] - 225s 2s/step - loss: 0.0207 - accuracy: 0.9952\n",
            "Epoch 5/5\n",
            "150/150 [==============================] - 223s 1s/step - loss: 0.0033 - accuracy: 0.9997\n"
          ]
        },
        {
          "output_type": "execute_result",
          "data": {
            "text/plain": [
              "<keras.callbacks.History at 0x7f4d456ea050>"
            ]
          },
          "metadata": {},
          "execution_count": 41
        }
      ]
    },
    {
      "cell_type": "code",
      "source": [
        "scores = model.predict(xvalid_pad)\n",
        "print(\"Auc: %.2f%%\" % (roc_auc(scores,yvalid)))"
      ],
      "metadata": {
        "colab": {
          "base_uri": "https://localhost:8080/"
        },
        "id": "tk_bvbBN_DNQ",
        "outputId": "3090ae40-51cf-44f9-892d-3eb2db3b0ba1"
      },
      "execution_count": 42,
      "outputs": [
        {
          "output_type": "stream",
          "name": "stdout",
          "text": [
            "Auc: 0.85%\n"
          ]
        }
      ]
    },
    {
      "cell_type": "code",
      "source": [
        "scores_model = []\n",
        "scores_model.append({'Model': 'SimpleRNN','AUC_Score': roc_auc(scores,yvalid)})"
      ],
      "metadata": {
        "id": "LfX1OL-9GEYf"
      },
      "execution_count": 43,
      "outputs": []
    },
    {
      "cell_type": "markdown",
      "source": [
        "## Word Embeddings\n",
        "explaination :https://machinelearningmastery.com/what-are-word-embeddings/\n",
        "\n",
        "deeplearning.ai course: https://www.coursera.org/learn/nlp-sequence-models/lecture/6Oq70/word-representation\n",
        "\n"
      ],
      "metadata": {
        "id": "ExqCM7Bh6aJx"
      }
    },
    {
      "cell_type": "code",
      "source": [
        "id = '1gxu1M6umXsCBW8pBesRVVf9ZlZUCj1fI'\n",
        "downloaded = drive.CreateFile({'id':id}) \n",
        "downloaded.GetContentFile('glove.840B.300d.txt')  "
      ],
      "metadata": {
        "id": "sgbbT_eMBc1k"
      },
      "execution_count": null,
      "outputs": []
    },
    {
      "cell_type": "code",
      "source": [
        "# load the GloVe vectors in a dictionary:\n",
        "embeddings_index = {}\n",
        "f = open('glove.840B.300d.txt','r',encoding='utf-8')\n",
        "for line in tqdm(f):\n",
        "    values = line.split(' ')\n",
        "    word = values[0]\n",
        "    coefs = np.asarray([float(val) for val in values[1:]])\n",
        "    embeddings_index[word] = coefs\n",
        "f.close()\n",
        "\n",
        "print('Found %s word vectors.' % len(embeddings_index))"
      ],
      "metadata": {
        "id": "gdaxlZOS6cf2",
        "colab": {
          "base_uri": "https://localhost:8080/",
          "height": 235
        },
        "outputId": "329586b6-0ca9-418f-d3ab-59db1ce44e7a"
      },
      "execution_count": 1,
      "outputs": [
        {
          "output_type": "error",
          "ename": "FileNotFoundError",
          "evalue": "ignored",
          "traceback": [
            "\u001b[0;31m---------------------------------------------------------------------------\u001b[0m",
            "\u001b[0;31mFileNotFoundError\u001b[0m                         Traceback (most recent call last)",
            "\u001b[0;32m<ipython-input-1-977fb2f41879>\u001b[0m in \u001b[0;36m<module>\u001b[0;34m()\u001b[0m\n\u001b[1;32m      1\u001b[0m \u001b[0;31m# load the GloVe vectors in a dictionary:\u001b[0m\u001b[0;34m\u001b[0m\u001b[0;34m\u001b[0m\u001b[0;34m\u001b[0m\u001b[0m\n\u001b[1;32m      2\u001b[0m \u001b[0membeddings_index\u001b[0m \u001b[0;34m=\u001b[0m \u001b[0;34m{\u001b[0m\u001b[0;34m}\u001b[0m\u001b[0;34m\u001b[0m\u001b[0;34m\u001b[0m\u001b[0m\n\u001b[0;32m----> 3\u001b[0;31m \u001b[0mf\u001b[0m \u001b[0;34m=\u001b[0m \u001b[0mopen\u001b[0m\u001b[0;34m(\u001b[0m\u001b[0;34m'glove.840B.300d.txt'\u001b[0m\u001b[0;34m,\u001b[0m\u001b[0;34m'r'\u001b[0m\u001b[0;34m,\u001b[0m\u001b[0mencoding\u001b[0m\u001b[0;34m=\u001b[0m\u001b[0;34m'utf-8'\u001b[0m\u001b[0;34m)\u001b[0m\u001b[0;34m\u001b[0m\u001b[0;34m\u001b[0m\u001b[0m\n\u001b[0m\u001b[1;32m      4\u001b[0m \u001b[0;32mfor\u001b[0m \u001b[0mline\u001b[0m \u001b[0;32min\u001b[0m \u001b[0mtqdm\u001b[0m\u001b[0;34m(\u001b[0m\u001b[0mf\u001b[0m\u001b[0;34m)\u001b[0m\u001b[0;34m:\u001b[0m\u001b[0;34m\u001b[0m\u001b[0;34m\u001b[0m\u001b[0m\n\u001b[1;32m      5\u001b[0m     \u001b[0mvalues\u001b[0m \u001b[0;34m=\u001b[0m \u001b[0mline\u001b[0m\u001b[0;34m.\u001b[0m\u001b[0msplit\u001b[0m\u001b[0;34m(\u001b[0m\u001b[0;34m' '\u001b[0m\u001b[0;34m)\u001b[0m\u001b[0;34m\u001b[0m\u001b[0;34m\u001b[0m\u001b[0m\n",
            "\u001b[0;31mFileNotFoundError\u001b[0m: [Errno 2] No such file or directory: 'glove.840B.300d.txt'"
          ]
        }
      ]
    },
    {
      "cell_type": "markdown",
      "source": [
        "## LSTM\n",
        "explaination: https://towardsdatascience.com/illustrated-guide-to-lstms-and-gru-s-a-step-by-step-explanation-44e9eb85bf21\n",
        "\n"
      ],
      "metadata": {
        "id": "XmgXEqO4qnfA"
      }
    },
    {
      "cell_type": "code",
      "source": [
        "# create an embedding matrix for the words we have in the dataset\n",
        "embedding_matrix = np.zeros((len(word_index) + 1, 300))\n",
        "for word, i in tqdm(word_index.items()):\n",
        "    embedding_vector = embeddings_index.get(word)\n",
        "    if embedding_vector is not None:\n",
        "        embedding_matrix[i] = embedding_vector"
      ],
      "metadata": {
        "id": "I5OwiGb5qlR-",
        "colab": {
          "base_uri": "https://localhost:8080/"
        },
        "outputId": "dc720c60-c478-4130-8265-395a31cc2aee"
      },
      "execution_count": 15,
      "outputs": [
        {
          "output_type": "stream",
          "name": "stderr",
          "text": [
            "100%|██████████| 43496/43496 [00:00<00:00, 679360.42it/s]\n"
          ]
        }
      ]
    },
    {
      "cell_type": "code",
      "source": [
        "%%time\n",
        "with strategy.scope():\n",
        "    \n",
        "    # A simple LSTM with glove embeddings and one dense layer\n",
        "    model = Sequential()\n",
        "    model.add(Embedding(len(word_index) + 1,\n",
        "                     300,\n",
        "                     weights=[embedding_matrix],\n",
        "                     input_length=max_len,\n",
        "                     trainable=False))\n",
        "\n",
        "    model.add(LSTM(100, dropout=0.3, recurrent_dropout=0.3))\n",
        "    model.add(Dense(1, activation='sigmoid'))\n",
        "    model.compile(loss='binary_crossentropy', optimizer='adam',metrics=['accuracy'])\n",
        "    \n",
        "model.summary()"
      ],
      "metadata": {
        "id": "J7o6YkWkqla3",
        "colab": {
          "base_uri": "https://localhost:8080/"
        },
        "outputId": "03b8ebf5-d2b6-49e8-9f43-dda1ef60ed8d"
      },
      "execution_count": 16,
      "outputs": [
        {
          "output_type": "stream",
          "name": "stdout",
          "text": [
            "Model: \"sequential\"\n",
            "_________________________________________________________________\n",
            " Layer (type)                Output Shape              Param #   \n",
            "=================================================================\n",
            " embedding (Embedding)       (None, 1500, 300)         13049100  \n",
            "                                                                 \n",
            " lstm (LSTM)                 (None, 100)               160400    \n",
            "                                                                 \n",
            " dense (Dense)               (None, 1)                 101       \n",
            "                                                                 \n",
            "=================================================================\n",
            "Total params: 13,209,601\n",
            "Trainable params: 160,501\n",
            "Non-trainable params: 13,049,100\n",
            "_________________________________________________________________\n",
            "CPU times: user 573 ms, sys: 144 ms, total: 717 ms\n",
            "Wall time: 1.04 s\n"
          ]
        }
      ]
    },
    {
      "cell_type": "code",
      "source": [
        "model.fit(xtrain_pad, ytrain, epochs=5, batch_size=64*strategy.num_replicas_in_sync)\n"
      ],
      "metadata": {
        "id": "tWaHNRSuqleQ",
        "colab": {
          "base_uri": "https://localhost:8080/",
          "height": 345
        },
        "outputId": "f0d8a678-d378-4e21-f649-1502f8017301"
      },
      "execution_count": 18,
      "outputs": [
        {
          "output_type": "stream",
          "name": "stdout",
          "text": [
            "Epoch 1/5\n",
            " 79/150 [==============>...............] - ETA: 7:57 - loss: 0.3734 - accuracy: 0.9062"
          ]
        },
        {
          "output_type": "error",
          "ename": "KeyboardInterrupt",
          "evalue": "ignored",
          "traceback": [
            "\u001b[0;31m---------------------------------------------------------------------------\u001b[0m",
            "\u001b[0;31mKeyboardInterrupt\u001b[0m                         Traceback (most recent call last)",
            "\u001b[0;32m<ipython-input-18-8134cba190d7>\u001b[0m in \u001b[0;36m<module>\u001b[0;34m()\u001b[0m\n\u001b[0;32m----> 1\u001b[0;31m \u001b[0mmodel\u001b[0m\u001b[0;34m.\u001b[0m\u001b[0mfit\u001b[0m\u001b[0;34m(\u001b[0m\u001b[0mxtrain_pad\u001b[0m\u001b[0;34m,\u001b[0m \u001b[0mytrain\u001b[0m\u001b[0;34m,\u001b[0m \u001b[0mepochs\u001b[0m\u001b[0;34m=\u001b[0m\u001b[0;36m5\u001b[0m\u001b[0;34m,\u001b[0m \u001b[0mbatch_size\u001b[0m\u001b[0;34m=\u001b[0m\u001b[0;36m64\u001b[0m\u001b[0;34m*\u001b[0m\u001b[0mstrategy\u001b[0m\u001b[0;34m.\u001b[0m\u001b[0mnum_replicas_in_sync\u001b[0m\u001b[0;34m)\u001b[0m\u001b[0;34m\u001b[0m\u001b[0;34m\u001b[0m\u001b[0m\n\u001b[0m",
            "\u001b[0;32m/usr/local/lib/python3.7/dist-packages/keras/utils/traceback_utils.py\u001b[0m in \u001b[0;36merror_handler\u001b[0;34m(*args, **kwargs)\u001b[0m\n\u001b[1;32m     62\u001b[0m     \u001b[0mfiltered_tb\u001b[0m \u001b[0;34m=\u001b[0m \u001b[0;32mNone\u001b[0m\u001b[0;34m\u001b[0m\u001b[0;34m\u001b[0m\u001b[0m\n\u001b[1;32m     63\u001b[0m     \u001b[0;32mtry\u001b[0m\u001b[0;34m:\u001b[0m\u001b[0;34m\u001b[0m\u001b[0;34m\u001b[0m\u001b[0m\n\u001b[0;32m---> 64\u001b[0;31m       \u001b[0;32mreturn\u001b[0m \u001b[0mfn\u001b[0m\u001b[0;34m(\u001b[0m\u001b[0;34m*\u001b[0m\u001b[0margs\u001b[0m\u001b[0;34m,\u001b[0m \u001b[0;34m**\u001b[0m\u001b[0mkwargs\u001b[0m\u001b[0;34m)\u001b[0m\u001b[0;34m\u001b[0m\u001b[0;34m\u001b[0m\u001b[0m\n\u001b[0m\u001b[1;32m     65\u001b[0m     \u001b[0;32mexcept\u001b[0m \u001b[0mException\u001b[0m \u001b[0;32mas\u001b[0m \u001b[0me\u001b[0m\u001b[0;34m:\u001b[0m  \u001b[0;31m# pylint: disable=broad-except\u001b[0m\u001b[0;34m\u001b[0m\u001b[0;34m\u001b[0m\u001b[0m\n\u001b[1;32m     66\u001b[0m       \u001b[0mfiltered_tb\u001b[0m \u001b[0;34m=\u001b[0m \u001b[0m_process_traceback_frames\u001b[0m\u001b[0;34m(\u001b[0m\u001b[0me\u001b[0m\u001b[0;34m.\u001b[0m\u001b[0m__traceback__\u001b[0m\u001b[0;34m)\u001b[0m\u001b[0;34m\u001b[0m\u001b[0;34m\u001b[0m\u001b[0m\n",
            "\u001b[0;32m/usr/local/lib/python3.7/dist-packages/keras/engine/training.py\u001b[0m in \u001b[0;36mfit\u001b[0;34m(self, x, y, batch_size, epochs, verbose, callbacks, validation_split, validation_data, shuffle, class_weight, sample_weight, initial_epoch, steps_per_epoch, validation_steps, validation_batch_size, validation_freq, max_queue_size, workers, use_multiprocessing)\u001b[0m\n\u001b[1;32m   1382\u001b[0m                 _r=1):\n\u001b[1;32m   1383\u001b[0m               \u001b[0mcallbacks\u001b[0m\u001b[0;34m.\u001b[0m\u001b[0mon_train_batch_begin\u001b[0m\u001b[0;34m(\u001b[0m\u001b[0mstep\u001b[0m\u001b[0;34m)\u001b[0m\u001b[0;34m\u001b[0m\u001b[0;34m\u001b[0m\u001b[0m\n\u001b[0;32m-> 1384\u001b[0;31m               \u001b[0mtmp_logs\u001b[0m \u001b[0;34m=\u001b[0m \u001b[0mself\u001b[0m\u001b[0;34m.\u001b[0m\u001b[0mtrain_function\u001b[0m\u001b[0;34m(\u001b[0m\u001b[0miterator\u001b[0m\u001b[0;34m)\u001b[0m\u001b[0;34m\u001b[0m\u001b[0;34m\u001b[0m\u001b[0m\n\u001b[0m\u001b[1;32m   1385\u001b[0m               \u001b[0;32mif\u001b[0m \u001b[0mdata_handler\u001b[0m\u001b[0;34m.\u001b[0m\u001b[0mshould_sync\u001b[0m\u001b[0;34m:\u001b[0m\u001b[0;34m\u001b[0m\u001b[0;34m\u001b[0m\u001b[0m\n\u001b[1;32m   1386\u001b[0m                 \u001b[0mcontext\u001b[0m\u001b[0;34m.\u001b[0m\u001b[0masync_wait\u001b[0m\u001b[0;34m(\u001b[0m\u001b[0;34m)\u001b[0m\u001b[0;34m\u001b[0m\u001b[0;34m\u001b[0m\u001b[0m\n",
            "\u001b[0;32m/usr/local/lib/python3.7/dist-packages/tensorflow/python/util/traceback_utils.py\u001b[0m in \u001b[0;36merror_handler\u001b[0;34m(*args, **kwargs)\u001b[0m\n\u001b[1;32m    148\u001b[0m     \u001b[0mfiltered_tb\u001b[0m \u001b[0;34m=\u001b[0m \u001b[0;32mNone\u001b[0m\u001b[0;34m\u001b[0m\u001b[0;34m\u001b[0m\u001b[0m\n\u001b[1;32m    149\u001b[0m     \u001b[0;32mtry\u001b[0m\u001b[0;34m:\u001b[0m\u001b[0;34m\u001b[0m\u001b[0;34m\u001b[0m\u001b[0m\n\u001b[0;32m--> 150\u001b[0;31m       \u001b[0;32mreturn\u001b[0m \u001b[0mfn\u001b[0m\u001b[0;34m(\u001b[0m\u001b[0;34m*\u001b[0m\u001b[0margs\u001b[0m\u001b[0;34m,\u001b[0m \u001b[0;34m**\u001b[0m\u001b[0mkwargs\u001b[0m\u001b[0;34m)\u001b[0m\u001b[0;34m\u001b[0m\u001b[0;34m\u001b[0m\u001b[0m\n\u001b[0m\u001b[1;32m    151\u001b[0m     \u001b[0;32mexcept\u001b[0m \u001b[0mException\u001b[0m \u001b[0;32mas\u001b[0m \u001b[0me\u001b[0m\u001b[0;34m:\u001b[0m\u001b[0;34m\u001b[0m\u001b[0;34m\u001b[0m\u001b[0m\n\u001b[1;32m    152\u001b[0m       \u001b[0mfiltered_tb\u001b[0m \u001b[0;34m=\u001b[0m \u001b[0m_process_traceback_frames\u001b[0m\u001b[0;34m(\u001b[0m\u001b[0me\u001b[0m\u001b[0;34m.\u001b[0m\u001b[0m__traceback__\u001b[0m\u001b[0;34m)\u001b[0m\u001b[0;34m\u001b[0m\u001b[0;34m\u001b[0m\u001b[0m\n",
            "\u001b[0;32m/usr/local/lib/python3.7/dist-packages/tensorflow/python/eager/def_function.py\u001b[0m in \u001b[0;36m__call__\u001b[0;34m(self, *args, **kwds)\u001b[0m\n\u001b[1;32m    913\u001b[0m \u001b[0;34m\u001b[0m\u001b[0m\n\u001b[1;32m    914\u001b[0m       \u001b[0;32mwith\u001b[0m \u001b[0mOptionalXlaContext\u001b[0m\u001b[0;34m(\u001b[0m\u001b[0mself\u001b[0m\u001b[0;34m.\u001b[0m\u001b[0m_jit_compile\u001b[0m\u001b[0;34m)\u001b[0m\u001b[0;34m:\u001b[0m\u001b[0;34m\u001b[0m\u001b[0;34m\u001b[0m\u001b[0m\n\u001b[0;32m--> 915\u001b[0;31m         \u001b[0mresult\u001b[0m \u001b[0;34m=\u001b[0m \u001b[0mself\u001b[0m\u001b[0;34m.\u001b[0m\u001b[0m_call\u001b[0m\u001b[0;34m(\u001b[0m\u001b[0;34m*\u001b[0m\u001b[0margs\u001b[0m\u001b[0;34m,\u001b[0m \u001b[0;34m**\u001b[0m\u001b[0mkwds\u001b[0m\u001b[0;34m)\u001b[0m\u001b[0;34m\u001b[0m\u001b[0;34m\u001b[0m\u001b[0m\n\u001b[0m\u001b[1;32m    916\u001b[0m \u001b[0;34m\u001b[0m\u001b[0m\n\u001b[1;32m    917\u001b[0m       \u001b[0mnew_tracing_count\u001b[0m \u001b[0;34m=\u001b[0m \u001b[0mself\u001b[0m\u001b[0;34m.\u001b[0m\u001b[0mexperimental_get_tracing_count\u001b[0m\u001b[0;34m(\u001b[0m\u001b[0;34m)\u001b[0m\u001b[0;34m\u001b[0m\u001b[0;34m\u001b[0m\u001b[0m\n",
            "\u001b[0;32m/usr/local/lib/python3.7/dist-packages/tensorflow/python/eager/def_function.py\u001b[0m in \u001b[0;36m_call\u001b[0;34m(self, *args, **kwds)\u001b[0m\n\u001b[1;32m    945\u001b[0m       \u001b[0;31m# In this case we have created variables on the first call, so we run the\u001b[0m\u001b[0;34m\u001b[0m\u001b[0;34m\u001b[0m\u001b[0;34m\u001b[0m\u001b[0m\n\u001b[1;32m    946\u001b[0m       \u001b[0;31m# defunned version which is guaranteed to never create variables.\u001b[0m\u001b[0;34m\u001b[0m\u001b[0;34m\u001b[0m\u001b[0;34m\u001b[0m\u001b[0m\n\u001b[0;32m--> 947\u001b[0;31m       \u001b[0;32mreturn\u001b[0m \u001b[0mself\u001b[0m\u001b[0;34m.\u001b[0m\u001b[0m_stateless_fn\u001b[0m\u001b[0;34m(\u001b[0m\u001b[0;34m*\u001b[0m\u001b[0margs\u001b[0m\u001b[0;34m,\u001b[0m \u001b[0;34m**\u001b[0m\u001b[0mkwds\u001b[0m\u001b[0;34m)\u001b[0m  \u001b[0;31m# pylint: disable=not-callable\u001b[0m\u001b[0;34m\u001b[0m\u001b[0;34m\u001b[0m\u001b[0m\n\u001b[0m\u001b[1;32m    948\u001b[0m     \u001b[0;32melif\u001b[0m \u001b[0mself\u001b[0m\u001b[0;34m.\u001b[0m\u001b[0m_stateful_fn\u001b[0m \u001b[0;32mis\u001b[0m \u001b[0;32mnot\u001b[0m \u001b[0;32mNone\u001b[0m\u001b[0;34m:\u001b[0m\u001b[0;34m\u001b[0m\u001b[0;34m\u001b[0m\u001b[0m\n\u001b[1;32m    949\u001b[0m       \u001b[0;31m# Release the lock early so that multiple threads can perform the call\u001b[0m\u001b[0;34m\u001b[0m\u001b[0;34m\u001b[0m\u001b[0;34m\u001b[0m\u001b[0m\n",
            "\u001b[0;32m/usr/local/lib/python3.7/dist-packages/tensorflow/python/eager/function.py\u001b[0m in \u001b[0;36m__call__\u001b[0;34m(self, *args, **kwargs)\u001b[0m\n\u001b[1;32m   2955\u001b[0m        filtered_flat_args) = self._maybe_define_function(args, kwargs)\n\u001b[1;32m   2956\u001b[0m     return graph_function._call_flat(\n\u001b[0;32m-> 2957\u001b[0;31m         filtered_flat_args, captured_inputs=graph_function.captured_inputs)  # pylint: disable=protected-access\n\u001b[0m\u001b[1;32m   2958\u001b[0m \u001b[0;34m\u001b[0m\u001b[0m\n\u001b[1;32m   2959\u001b[0m   \u001b[0;34m@\u001b[0m\u001b[0mproperty\u001b[0m\u001b[0;34m\u001b[0m\u001b[0;34m\u001b[0m\u001b[0m\n",
            "\u001b[0;32m/usr/local/lib/python3.7/dist-packages/tensorflow/python/eager/function.py\u001b[0m in \u001b[0;36m_call_flat\u001b[0;34m(self, args, captured_inputs, cancellation_manager)\u001b[0m\n\u001b[1;32m   1852\u001b[0m       \u001b[0;31m# No tape is watching; skip to running the function.\u001b[0m\u001b[0;34m\u001b[0m\u001b[0;34m\u001b[0m\u001b[0;34m\u001b[0m\u001b[0m\n\u001b[1;32m   1853\u001b[0m       return self._build_call_outputs(self._inference_function.call(\n\u001b[0;32m-> 1854\u001b[0;31m           ctx, args, cancellation_manager=cancellation_manager))\n\u001b[0m\u001b[1;32m   1855\u001b[0m     forward_backward = self._select_forward_and_backward_functions(\n\u001b[1;32m   1856\u001b[0m         \u001b[0margs\u001b[0m\u001b[0;34m,\u001b[0m\u001b[0;34m\u001b[0m\u001b[0;34m\u001b[0m\u001b[0m\n",
            "\u001b[0;32m/usr/local/lib/python3.7/dist-packages/tensorflow/python/eager/function.py\u001b[0m in \u001b[0;36mcall\u001b[0;34m(self, ctx, args, cancellation_manager)\u001b[0m\n\u001b[1;32m    502\u001b[0m               \u001b[0minputs\u001b[0m\u001b[0;34m=\u001b[0m\u001b[0margs\u001b[0m\u001b[0;34m,\u001b[0m\u001b[0;34m\u001b[0m\u001b[0;34m\u001b[0m\u001b[0m\n\u001b[1;32m    503\u001b[0m               \u001b[0mattrs\u001b[0m\u001b[0;34m=\u001b[0m\u001b[0mattrs\u001b[0m\u001b[0;34m,\u001b[0m\u001b[0;34m\u001b[0m\u001b[0;34m\u001b[0m\u001b[0m\n\u001b[0;32m--> 504\u001b[0;31m               ctx=ctx)\n\u001b[0m\u001b[1;32m    505\u001b[0m         \u001b[0;32melse\u001b[0m\u001b[0;34m:\u001b[0m\u001b[0;34m\u001b[0m\u001b[0;34m\u001b[0m\u001b[0m\n\u001b[1;32m    506\u001b[0m           outputs = execute.execute_with_cancellation(\n",
            "\u001b[0;32m/usr/local/lib/python3.7/dist-packages/tensorflow/python/eager/execute.py\u001b[0m in \u001b[0;36mquick_execute\u001b[0;34m(op_name, num_outputs, inputs, attrs, ctx, name)\u001b[0m\n\u001b[1;32m     53\u001b[0m     \u001b[0mctx\u001b[0m\u001b[0;34m.\u001b[0m\u001b[0mensure_initialized\u001b[0m\u001b[0;34m(\u001b[0m\u001b[0;34m)\u001b[0m\u001b[0;34m\u001b[0m\u001b[0;34m\u001b[0m\u001b[0m\n\u001b[1;32m     54\u001b[0m     tensors = pywrap_tfe.TFE_Py_Execute(ctx._handle, device_name, op_name,\n\u001b[0;32m---> 55\u001b[0;31m                                         inputs, attrs, num_outputs)\n\u001b[0m\u001b[1;32m     56\u001b[0m   \u001b[0;32mexcept\u001b[0m \u001b[0mcore\u001b[0m\u001b[0;34m.\u001b[0m\u001b[0m_NotOkStatusException\u001b[0m \u001b[0;32mas\u001b[0m \u001b[0me\u001b[0m\u001b[0;34m:\u001b[0m\u001b[0;34m\u001b[0m\u001b[0;34m\u001b[0m\u001b[0m\n\u001b[1;32m     57\u001b[0m     \u001b[0;32mif\u001b[0m \u001b[0mname\u001b[0m \u001b[0;32mis\u001b[0m \u001b[0;32mnot\u001b[0m \u001b[0;32mNone\u001b[0m\u001b[0;34m:\u001b[0m\u001b[0;34m\u001b[0m\u001b[0;34m\u001b[0m\u001b[0m\n",
            "\u001b[0;31mKeyboardInterrupt\u001b[0m: "
          ]
        }
      ]
    },
    {
      "cell_type": "code",
      "source": [
        "scores = model.predict(xvalid_pad)\n",
        "print(\"Auc: %.2f%%\" % (roc_auc(scores,yvalid)))"
      ],
      "metadata": {
        "id": "S-u7ZeJ-qlg5"
      },
      "execution_count": null,
      "outputs": []
    },
    {
      "cell_type": "code",
      "source": [
        "scores_model.append({'Model': 'LSTM','AUC_Score': roc_auc(scores,yvalid)})\n"
      ],
      "metadata": {
        "id": "X9bHpM-iqljP"
      },
      "execution_count": null,
      "outputs": []
    },
    {
      "cell_type": "markdown",
      "source": [
        ""
      ],
      "metadata": {
        "id": "gW_AFpyEq20o"
      }
    },
    {
      "cell_type": "markdown",
      "source": [
        "## GRU\n",
        "Introduced by Cho, et al. in 2014, GRU (Gated Recurrent Unit) aims to solve the vanishing gradient problem which comes with a standard recurrent neural network. GRU's are a variation on the LSTM because both are designed similarly and, in some cases, produce equally excellent results . GRU's were designed to be simpler and faster than LSTM's and in most cases produce equally good results and thus there is no clear winner.\n",
        "\n",
        "Explaination: https://towardsdatascience.com/understanding-gru-networks-2ef37df6c9be\n"
      ],
      "metadata": {
        "id": "IFNgOlkXqxxZ"
      }
    },
    {
      "cell_type": "code",
      "source": [
        "%%time\n",
        "with strategy.scope():\n",
        "    # GRU with glove embeddings and two dense layers\n",
        "     model = Sequential()\n",
        "     model.add(Embedding(len(word_index) + 1,\n",
        "                     300,\n",
        "                     weights=[embedding_matrix],\n",
        "                     input_length=max_len,\n",
        "                     trainable=False))\n",
        "     model.add(SpatialDropout1D(0.3))\n",
        "     model.add(GRU(300))\n",
        "     model.add(Dense(1, activation='sigmoid'))\n",
        "\n",
        "     model.compile(loss='binary_crossentropy', optimizer='adam',metrics=['accuracy'])   \n",
        "    \n",
        "model.summary()"
      ],
      "metadata": {
        "id": "PwWT1RNmq57h"
      },
      "execution_count": null,
      "outputs": []
    },
    {
      "cell_type": "code",
      "source": [
        "model.fit(xtrain_pad, ytrain, nb_epoch=5, batch_size=64*strategy.num_replicas_in_sync)\n"
      ],
      "metadata": {
        "id": "6s_TWduIq75_"
      },
      "execution_count": null,
      "outputs": []
    },
    {
      "cell_type": "code",
      "source": [
        "scores = model.predict(xvalid_pad)\n",
        "print(\"Auc: %.2f%%\" % (roc_auc(scores,yvalid)))"
      ],
      "metadata": {
        "id": "Q3j8uQneq9uo"
      },
      "execution_count": null,
      "outputs": []
    },
    {
      "cell_type": "code",
      "source": [
        "scores_model.append({'Model': 'GRU','AUC_Score': roc_auc(scores,yvalid)})\n"
      ],
      "metadata": {
        "id": "vjbbzmlpq_Og"
      },
      "execution_count": null,
      "outputs": []
    },
    {
      "cell_type": "code",
      "source": [
        "scores_model\n"
      ],
      "metadata": {
        "id": "ekLGrG2srAmA"
      },
      "execution_count": null,
      "outputs": []
    },
    {
      "cell_type": "markdown",
      "source": [
        "## Bi-Directional RNN's\n",
        "\n",
        "Explaination:\n",
        "\n",
        "https://www.coursera.org/learn/nlp-sequence-models/lecture/fyXnn/bidirectional-rnn\n",
        "\n",
        "https://towardsdatascience.com/understanding-bidirectional-rnn-in-pytorch-5bd25a5dd66\n",
        "\n",
        "https://d2l.ai/chapter_recurrent-modern/bi-rnn.html\n"
      ],
      "metadata": {
        "id": "ml1y_ooXq3fX"
      }
    },
    {
      "cell_type": "code",
      "source": [
        "%%time\n",
        "with strategy.scope():\n",
        "    # A simple bidirectional LSTM with glove embeddings and one dense layer\n",
        "    model = Sequential()\n",
        "    model.add(Embedding(len(word_index) + 1,\n",
        "                     300,\n",
        "                     weights=[embedding_matrix],\n",
        "                     input_length=max_len,\n",
        "                     trainable=False))\n",
        "    model.add(Bidirectional(LSTM(300, dropout=0.3, recurrent_dropout=0.3)))\n",
        "\n",
        "    model.add(Dense(1,activation='sigmoid'))\n",
        "    model.compile(loss='binary_crossentropy', optimizer='adam',metrics=['accuracy'])\n",
        "    \n",
        "    \n",
        "model.summary()"
      ],
      "metadata": {
        "id": "C-295Xd7rGC_"
      },
      "execution_count": null,
      "outputs": []
    },
    {
      "cell_type": "code",
      "source": [
        "model.fit(xtrain_pad, ytrain, nb_epoch=5, batch_size=64*strategy.num_replicas_in_sync)\n"
      ],
      "metadata": {
        "id": "heVMNmvOrHsQ"
      },
      "execution_count": null,
      "outputs": []
    },
    {
      "cell_type": "code",
      "source": [
        "scores = model.predict(xvalid_pad)\n",
        "print(\"Auc: %.2f%%\" % (roc_auc(scores,yvalid)))"
      ],
      "metadata": {
        "id": "pfutSMrkrJHA"
      },
      "execution_count": null,
      "outputs": []
    },
    {
      "cell_type": "code",
      "source": [
        "scores_model.append({'Model': 'Bi-directional LSTM','AUC_Score': roc_auc(scores,yvalid)})\n"
      ],
      "metadata": {
        "id": "WQYUhgBgrKbP"
      },
      "execution_count": null,
      "outputs": []
    },
    {
      "cell_type": "markdown",
      "source": [
        "# Seq2Seq Model Architecture\n"
      ],
      "metadata": {
        "id": "nfUyIXx7q3lP"
      }
    },
    {
      "cell_type": "code",
      "source": [
        "# Visualization of Results obtained from various Deep learning models\n",
        "results = pd.DataFrame(scores_model).sort_values(by='AUC_Score',ascending=False)\n",
        "results.style.background_gradient(cmap='Blues')"
      ],
      "metadata": {
        "id": "EC4cS96_rOtn"
      },
      "execution_count": null,
      "outputs": []
    },
    {
      "cell_type": "code",
      "source": [
        "fig = go.Figure(go.Funnelarea(\n",
        "    text =results.Model,\n",
        "    values = results.AUC_Score,\n",
        "    title = {\"position\": \"top center\", \"text\": \"Funnel-Chart of Sentiment Distribution\"}\n",
        "    ))\n",
        "fig.show()"
      ],
      "metadata": {
        "id": "wlJmeRz1rOwJ"
      },
      "execution_count": null,
      "outputs": []
    },
    {
      "cell_type": "markdown",
      "source": [
        "# Attention Model\n"
      ],
      "metadata": {
        "id": "OZY-vFqzrZrB"
      }
    },
    {
      "cell_type": "markdown",
      "source": [
        "# Transformer\n"
      ],
      "metadata": {
        "id": "-quia1mOrZxh"
      }
    },
    {
      "cell_type": "markdown",
      "source": [
        "# BERT\n"
      ],
      "metadata": {
        "id": "IxG3Hd52rddg"
      }
    },
    {
      "cell_type": "code",
      "source": [
        "# Loading Dependencies\n",
        "import os\n",
        "import tensorflow as tf\n",
        "from tensorflow.keras.layers import Dense, Input\n",
        "from tensorflow.keras.optimizers import Adam\n",
        "from tensorflow.keras.models import Model\n",
        "from tensorflow.keras.callbacks import ModelCheckpoint\n",
        "from kaggle_datasets import KaggleDatasets\n",
        "import transformers\n",
        "\n",
        "from tokenizers import BertWordPieceTokenizer"
      ],
      "metadata": {
        "id": "GMnDDiinrWl3"
      },
      "execution_count": null,
      "outputs": []
    },
    {
      "cell_type": "code",
      "source": [
        "# LOADING THE DATA\n",
        "\n",
        "train1 = pd.read_csv(\"/kaggle/input/jigsaw-multilingual-toxic-comment-classification/jigsaw-toxic-comment-train.csv\")\n",
        "valid = pd.read_csv('/kaggle/input/jigsaw-multilingual-toxic-comment-classification/validation.csv')\n",
        "test = pd.read_csv('/kaggle/input/jigsaw-multilingual-toxic-comment-classification/test.csv')\n",
        "sub = pd.read_csv('/kaggle/input/jigsaw-multilingual-toxic-comment-classification/sample_submission.csv')"
      ],
      "metadata": {
        "id": "1663EzBGrOyQ"
      },
      "execution_count": null,
      "outputs": []
    },
    {
      "cell_type": "markdown",
      "source": [
        "def fast_encode(texts, tokenizer, chunk_size=256, maxlen=512):\n",
        "    \"\"\"\n",
        "    Encoder for encoding the text into sequence of integers for BERT Input\n",
        "    \"\"\"\n",
        "    tokenizer.enable_truncation(max_length=maxlen)\n",
        "    tokenizer.enable_padding(max_length=maxlen)\n",
        "    all_ids = []\n",
        "    \n",
        "    for i in tqdm(range(0, len(texts), chunk_size)):\n",
        "        text_chunk = texts[i:i+chunk_size].tolist()\n",
        "        encs = tokenizer.encode_batch(text_chunk)\n",
        "        all_ids.extend([enc.ids for enc in encs])\n",
        "    \n",
        "    return np.array(all_ids)"
      ],
      "metadata": {
        "id": "F3xsqWhurj8n"
      }
    },
    {
      "cell_type": "code",
      "source": [
        "#IMP DATA FOR CONFIG\n",
        "\n",
        "AUTO = tf.data.experimental.AUTOTUNE\n",
        "\n",
        "\n",
        "# Configuration\n",
        "EPOCHS = 3\n",
        "BATCH_SIZE = 16 * strategy.num_replicas_in_sync\n",
        "MAX_LEN = 192"
      ],
      "metadata": {
        "id": "nafbCZ6Crml_"
      },
      "execution_count": null,
      "outputs": []
    },
    {
      "cell_type": "code",
      "source": [
        "# First load the real tokenizer\n",
        "tokenizer = transformers.DistilBertTokenizer.from_pretrained('distilbert-base-multilingual-cased')\n",
        "# Save the loaded tokenizer locally\n",
        "tokenizer.save_pretrained('.')\n",
        "# Reload it with the huggingface tokenizers library\n",
        "fast_tokenizer = BertWordPieceTokenizer('vocab.txt', lowercase=False)\n",
        "fast_tokenizer"
      ],
      "metadata": {
        "id": "o_5qXDwgroYw"
      },
      "execution_count": null,
      "outputs": []
    },
    {
      "cell_type": "code",
      "source": [
        "x_train = fast_encode(train1.comment_text.astype(str), fast_tokenizer, maxlen=MAX_LEN)\n",
        "x_valid = fast_encode(valid.comment_text.astype(str), fast_tokenizer, maxlen=MAX_LEN)\n",
        "x_test = fast_encode(test.content.astype(str), fast_tokenizer, maxlen=MAX_LEN)\n",
        "\n",
        "y_train = train1.toxic.values\n",
        "y_valid = valid.toxic.values"
      ],
      "metadata": {
        "id": "-BHuN70vrp3A"
      },
      "execution_count": null,
      "outputs": []
    },
    {
      "cell_type": "code",
      "source": [
        "train_dataset = (\n",
        "    tf.data.Dataset\n",
        "    .from_tensor_slices((x_train, y_train))\n",
        "    .repeat()\n",
        "    .shuffle(2048)\n",
        "    .batch(BATCH_SIZE)\n",
        "    .prefetch(AUTO)\n",
        ")\n",
        "\n",
        "valid_dataset = (\n",
        "    tf.data.Dataset\n",
        "    .from_tensor_slices((x_valid, y_valid))\n",
        "    .batch(BATCH_SIZE)\n",
        "    .cache()\n",
        "    .prefetch(AUTO)\n",
        ")\n",
        "\n",
        "test_dataset = (\n",
        "    tf.data.Dataset\n",
        "    .from_tensor_slices(x_test)\n",
        "    .batch(BATCH_SIZE)\n",
        ")"
      ],
      "metadata": {
        "id": "w-tKu59HrruI"
      },
      "execution_count": null,
      "outputs": []
    },
    {
      "cell_type": "code",
      "source": [
        "def build_model(transformer, max_len=512):\n",
        "    \"\"\"\n",
        "    function for training the BERT model\n",
        "    \"\"\"\n",
        "    input_word_ids = Input(shape=(max_len,), dtype=tf.int32, name=\"input_word_ids\")\n",
        "    sequence_output = transformer(input_word_ids)[0]\n",
        "    cls_token = sequence_output[:, 0, :]\n",
        "    out = Dense(1, activation='sigmoid')(cls_token)\n",
        "    \n",
        "    model = Model(inputs=input_word_ids, outputs=out)\n",
        "    model.compile(Adam(lr=1e-5), loss='binary_crossentropy', metrics=['accuracy'])\n",
        "    \n",
        "    return model"
      ],
      "metadata": {
        "id": "0QH1TshNrtIQ"
      },
      "execution_count": null,
      "outputs": []
    },
    {
      "cell_type": "code",
      "source": [
        "%%time\n",
        "with strategy.scope():\n",
        "    transformer_layer = (\n",
        "        transformers.TFDistilBertModel\n",
        "        .from_pretrained('distilbert-base-multilingual-cased')\n",
        "    )\n",
        "    model = build_model(transformer_layer, max_len=MAX_LEN)\n",
        "model.summary()"
      ],
      "metadata": {
        "id": "Q2j1zWbcrukf"
      },
      "execution_count": null,
      "outputs": []
    },
    {
      "cell_type": "code",
      "source": [
        "n_steps = x_train.shape[0] // BATCH_SIZE\n",
        "train_history = model.fit(\n",
        "    train_dataset,\n",
        "    steps_per_epoch=n_steps,\n",
        "    validation_data=valid_dataset,\n",
        "    epochs=EPOCHS\n",
        ")"
      ],
      "metadata": {
        "id": "NgEpDEf_rwSf"
      },
      "execution_count": null,
      "outputs": []
    },
    {
      "cell_type": "code",
      "source": [
        "n_steps = x_valid.shape[0] // BATCH_SIZE\n",
        "train_history_2 = model.fit(\n",
        "    valid_dataset.repeat(),\n",
        "    steps_per_epoch=n_steps,\n",
        "    epochs=EPOCHS*2\n",
        ")"
      ],
      "metadata": {
        "id": "_DSHJ2QarxkH"
      },
      "execution_count": null,
      "outputs": []
    },
    {
      "cell_type": "code",
      "source": [
        "sub['toxic'] = model.predict(test_dataset, verbose=1)\n",
        "sub.to_csv('submission.csv', index=False)"
      ],
      "metadata": {
        "id": "GkWt0jplrzPn"
      },
      "execution_count": null,
      "outputs": []
    },
    {
      "cell_type": "markdown",
      "source": [
        ""
      ],
      "metadata": {
        "id": "CtMQBl24rmDn"
      }
    }
  ]
}